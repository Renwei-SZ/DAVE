{
 "cells": [
  {
   "cell_type": "code",
   "execution_count": 24,
   "source": [
    "# -*- coding: utf-8 -*-\r\n",
    "#\r\n",
    "# ================================================================================\r\n",
    "# (c) Copyright 2021 yangyunchong All rights reserved.\r\n",
    "# --------------------------------------------------------------------------------\r\n",
    "# 2021.08.25.\r\n",
    "# ================================================================================\r\n",
    "#\r\n",
    "import os\r\n",
    "import sys\r\n",
    "import tensorflow as tf\r\n",
    "import tensorflow.python.framework as fw\r\n",
    "\r\n",
    "\r\n",
    "def _ckpt_to_pb(ckpt_model_file, pb_model_file):\r\n",
    "\r\n",
    "    reader = tf.compat.v1.train.NewCheckpointReader(ckpt_model_file)\r\n",
    "    out_put =[key for key in reader.get_variable_to_shape_map()]\r\n",
    "    \r\n",
    "    with tf.compat.v1.Graph().as_default() as graph_old:\r\n",
    "        isess = tf.compat.v1.InteractiveSession()\r\n",
    "\r\n",
    "        isess.run(tf.compat.v1.global_variables_initializer())\r\n",
    "        saver = tf.compat.v1.train.import_meta_graph(ckpt_model_file+'.meta', clear_devices=True)\r\n",
    "        saver.restore(isess, ckpt_model_file)\r\n",
    "        constant_graph = fw.graph_util.convert_variables_to_constants(isess, \r\n",
    "                                                                      isess.graph_def,\r\n",
    "                                                                      out_put)\r\n",
    "        constant_graph = fw.graph_util.remove_training_nodes(constant_graph)\r\n",
    "\r\n",
    "        with tf.compat.v1.gfile.GFile(pb_model_file, mode='wb') as f:\r\n",
    "            f.write(constant_graph.SerializeToString())\r\n",
    "# =====================================================================\r\n",
    "\r\n",
    "\r\n",
    "def t_model_ckpt_to_pb(h5_model_file, pb_model_file):\r\n",
    "    _ckpt_to_pb(h5_model_file, pb_model_file)\r\n",
    "    return\r\n",
    "\r\n",
    "\r\n",
    "# python ckpt_to_pb.py\r\n",
    "# /project/dave/neural_network/model/DeepLab/model/deeplabv3_ADE20K_tfrecord_20210819104159/model.ckpt-150000\r\n",
    "#  /project/dave/neural_network/model/DeepLab/model/deeplabv3_ADE20K_tfrecord_20210819104159/model.pb-150000.pb\r\n",
    "if __name__ == \"__main__\":\r\n",
    "#     t_model_ckpt_to_pb(*sys.argv[1:])\r\n",
    "    t_model_ckpt_to_pb('/project/dave/neural_network/model/DeepLab/model/deeplabv3_ADE20K_tfrecord_20210819104159/model.ckpt-150000',\r\n",
    "                      '/project/dave/neural_network/model/DeepLab/model/deeplabv3_ADE20K_tfrecord_20210819104159/model.pb-150000.pb')"
   ],
   "outputs": [
    {
     "output_type": "stream",
     "name": "stderr",
     "text": [
      "2021-08-25 09:32:17.299831: I tensorflow/core/common_runtime/gpu/gpu_device.cc:1733] Found device 0 with properties: \n",
      "pciBusID: 0000:48:00.0 name: Tesla V100-PCIE-16GB computeCapability: 7.0\n",
      "coreClock: 1.38GHz coreCount: 80 deviceMemorySize: 15.78GiB deviceMemoryBandwidth: 836.37GiB/s\n",
      "2021-08-25 09:32:17.302381: I tensorflow/core/common_runtime/gpu/gpu_device.cc:1871] Adding visible gpu devices: 0\n",
      "2021-08-25 09:32:17.302495: I tensorflow/core/common_runtime/gpu/gpu_device.cc:1258] Device interconnect StreamExecutor with strength 1 edge matrix:\n",
      "2021-08-25 09:32:17.302507: I tensorflow/core/common_runtime/gpu/gpu_device.cc:1264]      0 \n",
      "2021-08-25 09:32:17.302516: I tensorflow/core/common_runtime/gpu/gpu_device.cc:1277] 0:   N \n",
      "2021-08-25 09:32:17.305366: I tensorflow/core/common_runtime/gpu/gpu_device.cc:1418] Created TensorFlow device (/job:localhost/replica:0/task:0/device:GPU:0 with 12562 MB memory) -> physical GPU (device: 0, name: Tesla V100-PCIE-16GB, pci bus id: 0000:48:00.0, compute capability: 7.0)\n",
      "2021-08-25 09:32:18.199629: W tensorflow/core/common_runtime/graph_constructor.cc:1529] Importing a graph with a lower producer version 38 into an existing graph with producer version 716. Shape inference will have run different parts of the graph with different producer versions.\n"
     ]
    },
    {
     "output_type": "stream",
     "name": "stdout",
     "text": [
      "INFO:tensorflow:Restoring parameters from /project/dave/neural_network/model/DeepLab/model/deeplabv3_ADE20K_tfrecord_20210819104159/model.ckpt-150000\n"
     ]
    }
   ],
   "metadata": {}
  },
  {
   "cell_type": "code",
   "execution_count": null,
   "source": [],
   "outputs": [],
   "metadata": {}
  }
 ],
 "metadata": {
  "kernelspec": {
   "display_name": "Python 3 (ipykernel)",
   "language": "python",
   "name": "python3"
  },
  "language_info": {
   "codemirror_mode": {
    "name": "ipython",
    "version": 3
   },
   "file_extension": ".py",
   "mimetype": "text/x-python",
   "name": "python",
   "nbconvert_exporter": "python",
   "pygments_lexer": "ipython3",
   "version": "3.9.2"
  }
 },
 "nbformat": 4,
 "nbformat_minor": 5
}